{
 "cells": [
  {
   "cell_type": "markdown",
   "metadata": {},
   "source": [
    "# Write GNOME ugrid output file from Vdatum ADCIRC tidal constituent files"
   ]
  },
  {
   "cell_type": "markdown",
   "metadata": {},
   "source": [
    "The code below using functionality from both `iris` and `libgoods`. You can install `iris` with conda (it's on the `conda-forge` channel), but unfortunately the `libgoods` library is not installable via `conda` or `pypi`, so this is how I installed it:\n",
    "```\n",
    "git clone https://github.com/NOAA-ORR-ERD/GnomeTools\n",
    "pip install ./GnomeTools/libgoods\n",
    "```"
   ]
  },
  {
   "cell_type": "code",
   "execution_count": 1,
   "metadata": {
    "ExecuteTime": {
     "end_time": "2017-02-10T16:03:43.406502",
     "start_time": "2017-02-10T16:03:42.418628"
    },
    "collapsed": true
   },
   "outputs": [],
   "source": [
    "from __future__ import print_function\n",
    "\n",
    "import os\n",
    "import warnings\n",
    "import numpy as np\n",
    "\n",
    "import iris\n",
    "\n",
    "from libgoods import tri_grid\n",
    "from libgoods import data_files_dir"
   ]
  },
  {
   "cell_type": "code",
   "execution_count": 2,
   "metadata": {
    "ExecuteTime": {
     "end_time": "2017-02-10T16:03:43.411511",
     "start_time": "2017-02-10T16:03:43.407504"
    },
    "collapsed": true
   },
   "outputs": [],
   "source": [
    "#ncfile = os.path.join(data_files_dir,'vdatum','vdatum_fl_sab_grid.nc')"
   ]
  },
  {
   "cell_type": "code",
   "execution_count": 3,
   "metadata": {
    "ExecuteTime": {
     "end_time": "2017-02-10T16:03:43.445576",
     "start_time": "2017-02-10T16:03:43.413515"
    },
    "collapsed": false
   },
   "outputs": [
    {
     "name": "stdout",
     "output_type": "stream",
     "text": [
      "http://geoport.whoi.edu/thredds/dodsC/usgs/vault0/models/tides/NYsndbght02_adcirc54.nc\n"
     ]
    }
   ],
   "source": [
    "ncfile = ('http://geoport.whoi.edu/thredds/dodsC/usgs/vault0/models/tides/'\n",
    "              'NYsndbght02_adcirc54.nc')\n",
    "print(ncfile)\n",
    "sl = 40.5457896; wl = -73.664; nl = 40.6990759; el = -73.3376574\n",
    "ofile = 'fire_island.nc'"
   ]
  },
  {
   "cell_type": "code",
   "execution_count": 4,
   "metadata": {
    "ExecuteTime": {
     "end_time": "2017-02-10T16:03:43.461606",
     "start_time": "2017-02-10T16:03:43.447580"
    },
    "collapsed": false
   },
   "outputs": [
    {
     "name": "stdout",
     "output_type": "stream",
     "text": [
      "http://geoport.whoi.edu/thredds/dodsC/usgs/vault0/models/tides/vdatum_gulf_of_maine/adcirc54_38_orig.nc\n"
     ]
    }
   ],
   "source": [
    "ncfile = ('http://geoport.whoi.edu/thredds/dodsC/usgs/vault0/models/tides/'\n",
    "         'vdatum_gulf_of_maine/adcirc54_38_orig.nc')\n",
    "print(ncfile)\n",
    "wl = -70.7234; el = -70.4532; sl = 41.4258; nl = 41.5643  # Vineyard sound 2.\n",
    "ofile = 'gulf_of_maine.nc'"
   ]
  },
  {
   "cell_type": "code",
   "execution_count": 5,
   "metadata": {
    "ExecuteTime": {
     "end_time": "2017-02-10T16:03:43.476635",
     "start_time": "2017-02-10T16:03:43.464612"
    },
    "collapsed": false
   },
   "outputs": [
    {
     "name": "stdout",
     "output_type": "stream",
     "text": [
      "http://geoport.whoi.edu/thredds/dodsC/usgs/vault0/models/tides/vdatum_fl_sab/adcirc54.nc\n"
     ]
    }
   ],
   "source": [
    "ncfile = ('http://geoport.whoi.edu/thredds/dodsC/usgs/vault0/models/tides/'\n",
    "              'vdatum_fl_sab/adcirc54.nc')\n",
    "print(ncfile)\n",
    "wl = -82; el = -80.6; sl = 29; nl = 30.6;\n",
    "ofile = 'fl_sab.nc'"
   ]
  },
  {
   "cell_type": "code",
   "execution_count": 6,
   "metadata": {
    "ExecuteTime": {
     "end_time": "2017-02-10T16:03:43.487656",
     "start_time": "2017-02-10T16:03:43.478639"
    },
    "collapsed": false
   },
   "outputs": [
    {
     "name": "stdout",
     "output_type": "stream",
     "text": [
      "http://geoport.whoi.edu/thredds/dodsC/usgs/vault0/models/tides/DEdelches01_adcirc54.nc\n"
     ]
    }
   ],
   "source": [
    "ncfile = ('http://geoport.whoi.edu/thredds/dodsC/usgs/vault0/models/tides/'\n",
    "              'DEdelches01_adcirc54.nc')\n",
    "print(ncfile)\n",
    "wl = -74.537378; el = -74.0315462; sl = 39.354624; nl = 39.704567 # Great Bay, NJ\n",
    "ofile = 'great_bay.nc'"
   ]
  },
  {
   "cell_type": "code",
   "execution_count": 7,
   "metadata": {
    "ExecuteTime": {
     "end_time": "2017-02-10T16:04:01.970707",
     "start_time": "2017-02-10T16:03:43.490661"
    },
    "collapsed": false
   },
   "outputs": [
    {
     "name": "stdout",
     "output_type": "stream",
     "text": [
      "Building face-face connectivity\n",
      "No edge information\n",
      "Total number of eles:  558718\n",
      "Total number of nodes:  318860\n",
      "Finding nodes and entire elements in ss\n",
      "Number of eles in ss:  16296\n",
      "Number of nodes in ss:  9547\n",
      "Remapping nodes and elements\n"
     ]
    }
   ],
   "source": [
    "var_map = {'latitude':'lat','longitude':'lon','nodes_surrounding_ele':'ele','eles_surrounding_ele':''}\n",
    "adcirc = tri_grid.ugrid(ncfile)\n",
    "adcirc.get_dimensions(var_map, get_time=False)\n",
    "adcirc.get_grid_topo(var_map)\n",
    "\n",
    "adcirc.find_nodes_eles_in_ss(nl, sl, wl, el)"
   ]
  },
  {
   "cell_type": "code",
   "execution_count": 8,
   "metadata": {
    "ExecuteTime": {
     "end_time": "2017-02-10T16:04:01.988741",
     "start_time": "2017-02-10T16:04:01.976718"
    },
    "collapsed": false
   },
   "outputs": [
    {
     "name": "stdout",
     "output_type": "stream",
     "text": [
      "39.354624\n"
     ]
    }
   ],
   "source": [
    "print(sl)"
   ]
  },
  {
   "cell_type": "code",
   "execution_count": 9,
   "metadata": {
    "ExecuteTime": {
     "end_time": "2017-02-10T16:04:02.197136",
     "start_time": "2017-02-10T16:04:01.997758"
    },
    "collapsed": false
   },
   "outputs": [
    {
     "name": "stdout",
     "output_type": "stream",
     "text": [
      "Size of boundary:  2798\n"
     ]
    }
   ],
   "source": [
    "bnd = adcirc.find_bndry_segs(subset=True)\n",
    "print('Size of boundary: ', len(bnd))"
   ]
  },
  {
   "cell_type": "code",
   "execution_count": 10,
   "metadata": {
    "ExecuteTime": {
     "end_time": "2017-02-10T16:04:03.950461",
     "start_time": "2017-02-10T16:04:02.222184"
    },
    "collapsed": false
   },
   "outputs": [],
   "source": [
    "seg_types = [0] * len(bnd)\n",
    "adcirc.order_boundary(bnd,seg_types)"
   ]
  },
  {
   "cell_type": "code",
   "execution_count": 11,
   "metadata": {
    "ExecuteTime": {
     "end_time": "2017-02-10T16:04:03.963486",
     "start_time": "2017-02-10T16:04:03.953467"
    },
    "collapsed": true
   },
   "outputs": [],
   "source": [
    "def parse_string(name):\n",
    "    lista = [e.decode().strip() for e in name.tolist()]\n",
    "    return ''.join(lista)"
   ]
  },
  {
   "cell_type": "code",
   "execution_count": 12,
   "metadata": {
    "ExecuteTime": {
     "end_time": "2017-02-10T16:04:03.980518",
     "start_time": "2017-02-10T16:04:03.969497"
    },
    "collapsed": true
   },
   "outputs": [],
   "source": [
    "#adcirc.update(ncfile)\n",
    "\n",
    "names = []\n",
    "const = adcirc.Dataset.variables['tidenames'][:]\n",
    "for name in const:\n",
    "    names.append(parse_string(name))\n",
    "    "
   ]
  },
  {
   "cell_type": "code",
   "execution_count": 13,
   "metadata": {
    "ExecuteTime": {
     "end_time": "2017-02-10T16:04:04.179896",
     "start_time": "2017-02-10T16:04:03.984526"
    },
    "collapsed": true
   },
   "outputs": [],
   "source": [
    "from utide import _ut_constants_fname\n",
    "from utide.utilities import loadbunch\n",
    "\n",
    "con_info = loadbunch(_ut_constants_fname)['const']"
   ]
  },
  {
   "cell_type": "code",
   "execution_count": 14,
   "metadata": {
    "ExecuteTime": {
     "end_time": "2017-02-10T16:04:04.201938",
     "start_time": "2017-02-10T16:04:04.182902"
    },
    "collapsed": true
   },
   "outputs": [],
   "source": [
    "k = 0\n",
    "ind_nc, ind_ttide = [], []\n",
    "\n",
    "const_name = [e.strip() for e in con_info['name'].tolist()]\n",
    "\n",
    "consts = ['STEADY', 'M2', 'S2', 'N2', 'K1', 'O1', 'P1', 'M4', 'M6']\n",
    "for name in consts:\n",
    "    try:\n",
    "        if name == 'STEADY':\n",
    "            indx = const_name.index('Z0')\n",
    "        else:\n",
    "            indx = const_name.index(name)\n",
    "        k += 1\n",
    "        ind_ttide.append(indx)\n",
    "        ind_nc.append(names.index(name))\n",
    "    except ValueError:\n",
    "        pass  # `const` not found.\n",
    " "
   ]
  },
  {
   "cell_type": "code",
   "execution_count": 15,
   "metadata": {
    "ExecuteTime": {
     "end_time": "2017-02-10T16:04:05.585562",
     "start_time": "2017-02-10T16:04:04.207950"
    },
    "collapsed": true
   },
   "outputs": [],
   "source": [
    "import pytz\n",
    "from datetime import datetime\n",
    "from pandas import date_range\n",
    "\n",
    "start = datetime.strptime('18-Sep-2015 05:00',\n",
    "                          '%d-%b-%Y %H:%M').replace(tzinfo=pytz.utc)\n",
    "stop = datetime.strptime('19-Sep-2015 05:00',  # '18-Sep-2015 18:00'\n",
    "                         '%d-%b-%Y %H:%M').replace(tzinfo=pytz.utc)\n",
    "dt = 1.0  # Hours.\n",
    "glocals = date_range(start, stop, freq='1H').to_pydatetime()\n",
    "ntimes = len(glocals)"
   ]
  },
  {
   "cell_type": "code",
   "execution_count": 16,
   "metadata": {
    "ExecuteTime": {
     "end_time": "2017-02-10T16:04:05.598587",
     "start_time": "2017-02-10T16:04:05.592575"
    },
    "collapsed": false
   },
   "outputs": [],
   "source": [
    "lon = adcirc.data['lon'][:]\n",
    "lat = adcirc.data['lat'][:]"
   ]
  },
  {
   "cell_type": "code",
   "execution_count": 17,
   "metadata": {
    "ExecuteTime": {
     "end_time": "2017-02-10T16:04:05.640667",
     "start_time": "2017-02-10T16:04:05.608606"
    },
    "collapsed": false
   },
   "outputs": [],
   "source": [
    "inbox = np.logical_and(np.logical_and(lon >= wl,\n",
    "                                      lon <= el),\n",
    "                       np.logical_and(lat >= sl,\n",
    "                                      lat <= nl))"
   ]
  },
  {
   "cell_type": "code",
   "execution_count": 18,
   "metadata": {
    "ExecuteTime": {
     "end_time": "2017-02-10T16:04:05.689760",
     "start_time": "2017-02-10T16:04:05.646678"
    },
    "collapsed": true
   },
   "outputs": [],
   "source": [
    "lon = lon[inbox]\n",
    "lat = lat[inbox]"
   ]
  },
  {
   "cell_type": "code",
   "execution_count": 19,
   "metadata": {
    "ExecuteTime": {
     "end_time": "2017-02-10T16:04:05.730838",
     "start_time": "2017-02-10T16:04:05.705790"
    },
    "collapsed": false
   },
   "outputs": [
    {
     "name": "stdout",
     "output_type": "stream",
     "text": [
      "(318860,)\n",
      "[False False False ..., False False False]\n",
      "(9547,)\n",
      "[   668    669    670 ..., 146631 146632 146633]\n"
     ]
    }
   ],
   "source": [
    "print(inbox.shape)\n",
    "print(inbox)\n",
    "print(adcirc.nodes_in_ss.shape)\n",
    "print(adcirc.nodes_in_ss)"
   ]
  },
  {
   "cell_type": "code",
   "execution_count": 20,
   "metadata": {
    "ExecuteTime": {
     "end_time": "2017-02-10T16:04:05.964280",
     "start_time": "2017-02-10T16:04:05.737851"
    },
    "collapsed": false
   },
   "outputs": [],
   "source": [
    "with warnings.catch_warnings():\n",
    "    warnings.simplefilter(\"ignore\")\n",
    "    cubes = iris.load_raw(ncfile)"
   ]
  },
  {
   "cell_type": "code",
   "execution_count": 21,
   "metadata": {
    "ExecuteTime": {
     "end_time": "2017-02-10T16:04:05.980311",
     "start_time": "2017-02-10T16:04:05.969290"
    },
    "collapsed": true
   },
   "outputs": [],
   "source": [
    "ua = cubes.extract_strict('Eastward Water Velocity Amplitude')\n",
    "up = cubes.extract_strict('Eastward Water Velocity Phase')\n",
    "va = cubes.extract_strict('Northward Water Velocity Amplitude')\n",
    "vp = cubes.extract_strict('Northward Water Velocity Phase')"
   ]
  },
  {
   "cell_type": "code",
   "execution_count": 22,
   "metadata": {
    "ExecuteTime": {
     "end_time": "2017-02-10T16:04:22.612853",
     "start_time": "2017-02-10T16:04:05.989328"
    },
    "collapsed": true
   },
   "outputs": [],
   "source": [
    "uamp = ua.data[0, inbox, :][:, ind_nc]\n",
    "vamp = va.data[0, inbox, :][:, ind_nc]\n",
    "upha = up.data[0, inbox, :][:, ind_nc]\n",
    "vpha = vp.data[0, inbox, :][:, ind_nc]"
   ]
  },
  {
   "cell_type": "code",
   "execution_count": 23,
   "metadata": {
    "ExecuteTime": {
     "end_time": "2017-02-10T16:04:22.619866",
     "start_time": "2017-02-10T16:04:22.614856"
    },
    "collapsed": true
   },
   "outputs": [],
   "source": [
    "# this takes 12 minutes instead of Iris 14 seconds\n",
    "#uamp = adcirc.Dataset.variables['u_amp'][0,adcirc.nodes_in_ss,:][:,ind_nc]\n",
    "#vamp = adcirc.Dataset.variables['v_amp'][0,adcirc.nodes_in_ss,:][:,ind_nc]\n",
    "#upha = adcirc.Dataset.variables['u_phase'][0,adcirc.nodes_in_ss,:][:,ind_nc]\n",
    "#vpha = adcirc.Dataset.variables['v_phase'][0,adcirc.nodes_in_ss,:][:,ind_nc]"
   ]
  },
  {
   "cell_type": "code",
   "execution_count": 24,
   "metadata": {
    "ExecuteTime": {
     "end_time": "2017-02-10T16:04:22.633892",
     "start_time": "2017-02-10T16:04:22.621870"
    },
    "collapsed": true
   },
   "outputs": [],
   "source": [
    "freq_nc = adcirc.Dataset.variables['tidefreqs'][:][ind_nc] \n",
    "freq_ttide = con_info['freq'][ind_ttide]\n",
    "t_tide_names = np.array(const_name)[ind_ttide]\n",
    "omega_ttide = 2*np.pi * freq_ttide  # Convert from radians/s to radians/hour.\n",
    "omega = freq_nc * 3600"
   ]
  },
  {
   "cell_type": "code",
   "execution_count": 25,
   "metadata": {
    "ExecuteTime": {
     "end_time": "2017-02-10T16:04:22.669961",
     "start_time": "2017-02-10T16:04:22.635896"
    },
    "collapsed": true
   },
   "outputs": [],
   "source": [
    "from matplotlib.dates import date2num\n",
    "from utide.harmonics import FUV\n",
    "v, u, f = FUV(t=np.array([date2num(start)]), tref=np.array([0]),\n",
    "              lind=np.array([ind_ttide]),\n",
    "              lat=55, ngflgs=[0, 0, 0, 0])\n",
    "              \n",
    "# Convert phase in radians.\n",
    "v, u, f = (np.squeeze(i) for i in (v, u, f))\n",
    "v = v * 2 * np.pi\n",
    "u = u * 2 * np.pi\n",
    "\n",
    "thours = np.array([d.total_seconds() for d in\n",
    "                   (glocals - glocals[0])]) / 60 / 60.\n",
    "   \n",
    "adcirc.data['u'] = np.ones((len(thours),len(adcirc.nodes_in_ss)),)   \n",
    "adcirc.data['v'] = np.ones((len(thours),len(adcirc.nodes_in_ss)),)"
   ]
  },
  {
   "cell_type": "code",
   "execution_count": 26,
   "metadata": {
    "ExecuteTime": {
     "end_time": "2017-02-10T16:04:22.854310",
     "start_time": "2017-02-10T16:04:22.671965"
    },
    "collapsed": true
   },
   "outputs": [],
   "source": [
    "k = 0\n",
    "for k in range(len(thours)):          \n",
    "    U = (f * uamp * np.cos(v + thours[k] * omega + u - upha * np.pi/180)).sum(axis=1)\n",
    "    V = (f * vamp * np.cos(v + thours[k] * omega + u - vpha * np.pi/180)).sum(axis=1) \n",
    "    adcirc.data['u'][k,:] = U\n",
    "    adcirc.data['v'][k,:] = V"
   ]
  },
  {
   "cell_type": "code",
   "execution_count": 27,
   "metadata": {
    "ExecuteTime": {
     "end_time": "2017-02-10T16:04:22.954500",
     "start_time": "2017-02-10T16:04:22.856314"
    },
    "collapsed": false
   },
   "outputs": [],
   "source": [
    "adcirc.data['time'] = thours\n",
    "adcirc.atts['time'] = {'units':'hours since 2015-09-18 05:00'}\n",
    "adcirc.atts['u'] = {'units':'m/s','_FillValue':999}\n",
    "adcirc.atts['v'] = {'units':'m/s','_FillValue':999}\n",
    "adcirc.atts['nbe'] = {'order':'ccw'}\n",
    "adcirc.write_unstruc_grid(ofile)                           "
   ]
  }
 ],
 "metadata": {
  "_draft": {
   "nbviewer_url": "https://gist.github.com/6aff782853ed13d89bc8d4bf772f740c"
  },
  "gist": {
   "data": {
    "description": "tri_tide_movie/python/vdatum2gnome.ipynb",
    "public": true
   },
   "id": "6aff782853ed13d89bc8d4bf772f740c"
  },
  "kernelspec": {
   "display_name": "Python 3",
   "language": "python",
   "name": "python3"
  },
  "language_info": {
   "codemirror_mode": {
    "name": "ipython",
    "version": 3
   },
   "file_extension": ".py",
   "mimetype": "text/x-python",
   "name": "python",
   "nbconvert_exporter": "python",
   "pygments_lexer": "ipython3",
   "version": "3.5.3"
  }
 },
 "nbformat": 4,
 "nbformat_minor": 2
}
